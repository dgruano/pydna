{
 "cells": [
  {
   "cell_type": "code",
   "execution_count": null,
   "metadata": {},
   "outputs": [],
   "source": [
    "from Bio.Data import IUPACData\n",
    "\n",
    "# Access the IUPAC dictionary\n",
    "iupac_dict = IUPACData.ambiguous_dna_values\n",
    "print(iupac_dict)"
   ]
  },
  {
   "cell_type": "code",
   "execution_count": null,
   "metadata": {},
   "outputs": [
    {
     "name": "stdout",
     "output_type": "stream",
     "text": [
      "NGG\n",
      "NNGRRT\n",
      "[GATC]{2}G[AG]{2}T\n",
      "A[CT]{2}C[GATC]{2}\n",
      ">SaCas9 protospacer scaffold\n",
      "ACTGGTTACTGCAGT GTTTTAGAGCTAGAAATAGCAAGTTAAAATAAGG\n",
      "-1\n",
      "\n",
      "[GATC]G{2}\n",
      "[GATC]{2}G[AG]{2}T\n"
     ]
    },
    {
     "ename": "KeyError",
     "evalue": "'t'",
     "output_type": "error",
     "traceback": [
      "\u001b[0;31m---------------------------------------------------------------------------\u001b[0m",
      "\u001b[0;31mKeyError\u001b[0m                                  Traceback (most recent call last)",
      "Cell \u001b[0;32mIn[1], line 18\u001b[0m\n\u001b[1;32m     16\u001b[0m pam_obj \u001b[38;5;241m=\u001b[39m pam(\u001b[38;5;124m\"\u001b[39m\u001b[38;5;124mNNGRRT\u001b[39m\u001b[38;5;124m\"\u001b[39m)\n\u001b[1;32m     17\u001b[0m \u001b[38;5;28mprint\u001b[39m(pam_obj)\n\u001b[0;32m---> 18\u001b[0m pam_obj \u001b[38;5;241m=\u001b[39m \u001b[43mpam\u001b[49m\u001b[43m(\u001b[49m\u001b[38;5;124;43m\"\u001b[39;49m\u001b[38;5;124;43mNNGRRt\u001b[39;49m\u001b[38;5;124;43m\"\u001b[39;49m\u001b[43m)\u001b[49m\n\u001b[1;32m     19\u001b[0m \u001b[38;5;28mprint\u001b[39m(pam_obj)\n",
      "File \u001b[0;32m~/dev/learn/Genestorian/pydna/src/pydna/crispr.py:33\u001b[0m, in \u001b[0;36mpam.__init__\u001b[0;34m(self, pam)\u001b[0m\n\u001b[1;32m     31\u001b[0m \u001b[38;5;28;01mdef\u001b[39;00m \u001b[38;5;21m__init__\u001b[39m(\u001b[38;5;28mself\u001b[39m, pam: \u001b[38;5;28mstr\u001b[39m) \u001b[38;5;241m-\u001b[39m\u001b[38;5;241m>\u001b[39m \u001b[38;5;28;01mNone\u001b[39;00m:\n\u001b[1;32m     32\u001b[0m     \u001b[38;5;28mself\u001b[39m\u001b[38;5;241m.\u001b[39mpam \u001b[38;5;241m=\u001b[39m pam\u001b[38;5;241m.\u001b[39mupper()\n\u001b[0;32m---> 33\u001b[0m     \u001b[38;5;28mself\u001b[39m\u001b[38;5;241m.\u001b[39mre \u001b[38;5;241m=\u001b[39m \u001b[43mpam_to_re\u001b[49m\u001b[43m(\u001b[49m\u001b[43mpam\u001b[49m\u001b[43m)\u001b[49m\n\u001b[1;32m     34\u001b[0m     \u001b[38;5;28mself\u001b[39m\u001b[38;5;241m.\u001b[39mrcre \u001b[38;5;241m=\u001b[39m pam_to_re(rc(\u001b[38;5;28mself\u001b[39m\u001b[38;5;241m.\u001b[39mpam))\n",
      "File \u001b[0;32m~/dev/learn/Genestorian/pydna/src/pydna/crispr.py:207\u001b[0m, in \u001b[0;36mpam_to_re\u001b[0;34m(pam)\u001b[0m\n\u001b[1;32m    205\u001b[0m last_nuc \u001b[38;5;241m=\u001b[39m \u001b[38;5;28;01mNone\u001b[39;00m\n\u001b[1;32m    206\u001b[0m \u001b[38;5;28;01mfor\u001b[39;00m c, nuc \u001b[38;5;129;01min\u001b[39;00m \u001b[38;5;28menumerate\u001b[39m(pam):\n\u001b[0;32m--> 207\u001b[0m     new_nuc \u001b[38;5;241m=\u001b[39m \u001b[43mambiguous_dna_values\u001b[49m\u001b[43m[\u001b[49m\u001b[43mnuc\u001b[49m\u001b[43m]\u001b[49m\n\u001b[1;32m    208\u001b[0m     \u001b[38;5;28;01mif\u001b[39;00m new_nuc \u001b[38;5;241m==\u001b[39m last_nuc:\n\u001b[1;32m    209\u001b[0m         count \u001b[38;5;241m+\u001b[39m\u001b[38;5;241m=\u001b[39m \u001b[38;5;241m1\u001b[39m\n",
      "\u001b[0;31mKeyError\u001b[0m: 't'"
     ]
    }
   ],
   "source": [
    "from crispr import cas9, SaCas9, pam\n",
    "\n",
    "# Create a Cas9 object\n",
    "cas9_obj = cas9(\"ACTGGTTACTGCAGT\")\n",
    "print(cas9_obj.pam)\n",
    "\n",
    "SaCas9_obj = SaCas9(\"ACTGGTTACTGCAGT\")\n",
    "print(SaCas9_obj.pam)\n",
    "print(SaCas9_obj.pamre)\n",
    "print(SaCas9_obj.pamrerc)\n",
    "print(SaCas9_obj.__str__())\n",
    "print(SaCas9_obj.ovhg)\n",
    "print()\n",
    "pam_obj = pam(\"NGG\")\n",
    "print(pam_obj)\n",
    "pam_obj = pam(\"NNGRRT\")\n",
    "print(pam_obj)\n",
    "pam_obj = pam(\"NNGRRt\")\n",
    "print(pam_obj)\n",
    "\n"
   ]
  },
  {
   "cell_type": "code",
   "execution_count": null,
   "metadata": {},
   "outputs": [],
   "source": [
    "from crispr import pam_to_re\n",
    "\n",
    "print(pam_to_re(\"NGG\"))\n",
    "\n",
    "print(pam_to_re(\"NNGRRT\"))\n"
   ]
  }
 ],
 "metadata": {
  "kernelspec": {
   "display_name": ".venv",
   "language": "python",
   "name": "python3"
  },
  "language_info": {
   "codemirror_mode": {
    "name": "ipython",
    "version": 3
   },
   "file_extension": ".py",
   "mimetype": "text/x-python",
   "name": "python",
   "nbconvert_exporter": "python",
   "pygments_lexer": "ipython3",
   "version": "3.10.6"
  }
 },
 "nbformat": 4,
 "nbformat_minor": 2
}
